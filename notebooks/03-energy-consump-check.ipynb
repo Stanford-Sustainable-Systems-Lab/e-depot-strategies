{
 "cells": [
  {
   "cell_type": "markdown",
   "id": "786c91b2",
   "metadata": {},
   "source": [
    "# Explore conditional bootstrap energy consumptions\n",
    "*by Fletcher Passow*\n",
    "\n",
    "April 2025"
   ]
  },
  {
   "cell_type": "markdown",
   "id": "96905c7b",
   "metadata": {},
   "source": [
    "## Load modules"
   ]
  },
  {
   "cell_type": "code",
   "execution_count": null,
   "id": "ffda6244",
   "metadata": {},
   "outputs": [],
   "source": [
    "import seaborn as sns\n",
    "\n",
    "from e_depot_strategies.pipelines.simulate.utils import build_df_from_dict"
   ]
  },
  {
   "cell_type": "code",
   "execution_count": null,
   "id": "f66b9ada",
   "metadata": {},
   "outputs": [],
   "source": [
    "from matplotlib import rc\n",
    "sns.set_context(\"paper\", font_scale=1.5)\n",
    "sns.set_style(\"whitegrid\")\n",
    "\n",
    "\n",
    "#rc('font',**{'family':'serif','serif':['Helvetica']})\n",
    "default_fig_dims_inches = (6.5, 4)"
   ]
  },
  {
   "cell_type": "code",
   "execution_count": null,
   "id": "d4e95b11",
   "metadata": {},
   "outputs": [],
   "source": [
    "KM_PER_MILE = 1.609"
   ]
  },
  {
   "cell_type": "markdown",
   "id": "99214826",
   "metadata": {},
   "source": [
    "## Load data"
   ]
  },
  {
   "cell_type": "code",
   "execution_count": null,
   "id": "dcc38304",
   "metadata": {},
   "outputs": [],
   "source": [
    "%reload_ext kedro.ipython"
   ]
  },
  {
   "cell_type": "code",
   "execution_count": null,
   "id": "bc2f64a5",
   "metadata": {},
   "outputs": [],
   "source": [
    "consump = catalog.load(\"energy_consumption\")"
   ]
  },
  {
   "cell_type": "code",
   "execution_count": null,
   "id": "f6833c94",
   "metadata": {},
   "outputs": [],
   "source": [
    "dists = catalog.load(\"fleetdna_distances\")"
   ]
  },
  {
   "cell_type": "markdown",
   "id": "8483e567",
   "metadata": {},
   "source": [
    "## Plot distributions of energy consumption values"
   ]
  },
  {
   "cell_type": "code",
   "execution_count": null,
   "id": "5a2b25e4",
   "metadata": {},
   "outputs": [],
   "source": [
    "consump[\"wcg\"] = consump[\"weight_class_group\"].str.capitalize()\n",
    "consump[\"consump_kwh_per_km\"] = consump[\"consump_kwh_per_mi\"] / KM_PER_MILE"
   ]
  },
  {
   "cell_type": "code",
   "execution_count": null,
   "id": "cbbbbc2f",
   "metadata": {},
   "outputs": [],
   "source": [
    "g = sns.catplot(data=consump, y=\"consump_kwh_per_km\", x=\"wcg\", kind=\"box\", order=[\"Light\", \"Medium\", \"Heavy\"])\n",
    "g = g.set_axis_labels(\"Weight Class Group\", \"Consumption [kWh/km]\")\n",
    "for ax in g.axes.flat:\n",
    "    ax.set_ylim(bottom=0)\n",
    "catalog.save(\"consumption_by_weight_class_group\", g.figure)\n",
    "g.figure"
   ]
  },
  {
   "cell_type": "code",
   "execution_count": null,
   "id": "51040cf6",
   "metadata": {},
   "outputs": [],
   "source": [
    "consump.groupby(\"weight_class_group\")[\"consump_kwh_per_km\"].median()"
   ]
  },
  {
   "cell_type": "code",
   "execution_count": null,
   "id": "269dd780",
   "metadata": {},
   "outputs": [],
   "source": [
    "len(consump)"
   ]
  },
  {
   "cell_type": "markdown",
   "id": "af2fc7e1",
   "metadata": {},
   "source": [
    "## Plot distributions of distances traveled"
   ]
  },
  {
   "cell_type": "code",
   "execution_count": null,
   "id": "3ef4f6ce",
   "metadata": {},
   "outputs": [],
   "source": [
    "dists[\"distance_total_km\"] = dists[\"distance_total_mi\"] * KM_PER_MILE"
   ]
  },
  {
   "cell_type": "code",
   "execution_count": null,
   "id": "b643fe97",
   "metadata": {},
   "outputs": [],
   "source": [
    "g = sns.catplot(data=dists, y=\"distance_total_km\", x=\"voc_category\", kind=\"box\", order=sorted(dists[\"voc_category\"].unique()))#, order=[\"Light\", \"Medium\", \"Heavy\"])\n",
    "g = g.set_axis_labels(\"Vocation\", \"Distance Traveled [km]\")\n",
    "for ax in g.axes.flat:\n",
    "    ax.set_ylim(bottom=0)\n",
    "    ax.tick_params(axis='x', labelrotation=45)\n",
    "catalog.save(\"distance_by_vocation\", g.figure)\n",
    "g.figure"
   ]
  },
  {
   "cell_type": "code",
   "execution_count": null,
   "id": "5fa03eff",
   "metadata": {},
   "outputs": [],
   "source": []
  }
 ],
 "metadata": {
  "kernelspec": {
   "display_name": "e-depot-strategies",
   "language": "python",
   "name": "python3"
  },
  "language_info": {
   "codemirror_mode": {
    "name": "ipython",
    "version": 3
   },
   "file_extension": ".py",
   "mimetype": "text/x-python",
   "name": "python",
   "nbconvert_exporter": "python",
   "pygments_lexer": "ipython3",
   "version": "3.10.14"
  }
 },
 "nbformat": 4,
 "nbformat_minor": 5
}
